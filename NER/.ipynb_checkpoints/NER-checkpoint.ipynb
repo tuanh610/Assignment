{
 "cells": [
  {
   "cell_type": "code",
   "execution_count": 2,
   "metadata": {},
   "outputs": [],
   "source": [
    "import spacy"
   ]
  },
  {
   "cell_type": "code",
   "execution_count": 3,
   "metadata": {},
   "outputs": [],
   "source": [
    "from spacy import displacy\n",
    "from collections import Counter\n",
    "import en_core_web_sm"
   ]
  },
  {
   "cell_type": "code",
   "execution_count": 30,
   "metadata": {},
   "outputs": [],
   "source": [
    "nlp = spacy.load(\"en_core_web_sm\")"
   ]
  },
  {
   "cell_type": "code",
   "execution_count": 45,
   "metadata": {},
   "outputs": [
    {
     "ename": "SyntaxError",
     "evalue": "invalid syntax (<ipython-input-45-fe4916bb3d0a>, line 1)",
     "output_type": "error",
     "traceback": [
      "\u001b[1;36m  File \u001b[1;32m\"<ipython-input-45-fe4916bb3d0a>\"\u001b[1;36m, line \u001b[1;32m1\u001b[0m\n\u001b[1;33m    func processNLP(a):\u001b[0m\n\u001b[1;37m                  ^\u001b[0m\n\u001b[1;31mSyntaxError\u001b[0m\u001b[1;31m:\u001b[0m invalid syntax\n"
     ]
    }
   ],
   "source": [
    "def processNLP(a:String):\n",
    "    doc = nlp(a)\n",
    "    displacy.render(nlp(str(sentences[0])), jupyter=True, style='ent')"
   ]
  },
  {
   "cell_type": "code",
   "execution_count": 41,
   "metadata": {},
   "outputs": [
    {
     "name": "stdout",
     "output_type": "stream",
     "text": [
      "[('California', 'GPE'), ('The New York Times', 'ORG'), ('New York Times', 'ORG'), ('Andy Newman,2016', 'PERSON'), ('Muñiz', 'ORG'), ('Bronx', 'GPE'), ('José', 'GPE'), ('Zoraida Muñiz', 'PERSON'), ('Zoraida', 'PERSON'), ('Puerto Rico', 'GPE'), ('Dickens', 'PERSON'), ('Zoraida', 'PERSON'), ('José', 'GPE'), ('Vietnam War', 'EVENT'), ('14', 'DATE'), ('29', 'CARDINAL'), ('New York', 'GPE'), ('1983', 'DATE'), ('1987', 'DATE'), ('Muñiz', 'PERSON'), ('eight or 10 a day', 'DATE'), ('first', 'ORDINAL'), ('José Jr.', 'PERSON'), ('2', 'CARDINAL'), ('six', 'CARDINAL'), ('first', 'ORDINAL'), ('Muñiz', 'PERSON'), ('50', 'DATE'), ('Muñizes', 'GPE'), ('Westchester Avenue', 'FAC'), ('Bronx', 'GPE'), ('Muñiz', 'PERSON'), ('second', 'ORDINAL'), ('Jesus', 'PERSON'), ('3', 'CARDINAL'), ('Maria', 'PERSON'), ('2007', 'DATE'), ('Muñiz', 'PERSON'), ('Muñiz', 'PERSON'), ('Muñiz', 'PERSON'), ('Muñiz', 'ORG'), ('José Jr. 24', 'PERSON'), ('years', 'DATE'), ('the summer', 'DATE'), ('Jesus', 'PERSON'), ('22', 'DATE'), ('Zaro', 'GPE'), ('Manhattan', 'GPE'), ('August', 'DATE'), ('about $770', 'MONEY'), ('245', 'MONEY'), ('Jesus', 'PERSON'), ('José Sr.', 'ORG'), ('the summer', 'DATE'), ('Muñiz', 'PERSON'), ('Catholic Charities Archdiocese', 'ORG'), ('New York', 'GPE'), ('one', 'CARDINAL'), ('eight', 'CARDINAL'), ('The New York Times’s Neediest Cases Fund', 'ORG'), ('first', 'ORDINAL'), ('600', 'MONEY'), ('the Neediest Cases Fund', 'ORG'), ('Jesus', 'PERSON'), ('Maria', 'PERSON'), ('December', 'DATE'), ('José Jr.', 'PERSON'), ('the New York Film Academy', 'ORG'), ('José Sr.', 'PERSON'), ('Zoraida', 'PERSON'), ('José Jr.', 'PERSON'), ('Muñiz', 'PERSON')]\n"
     ]
    }
   ],
   "source": [
    "print([(X.text, X.label_) for X in doc.ents])"
   ]
  },
  {
   "cell_type": "code",
   "execution_count": 42,
   "metadata": {},
   "outputs": [
    {
     "name": "stdout",
     "output_type": "stream",
     "text": [
      "Calling on Angels While Enduring the Trials of Job in California.\n"
     ]
    }
   ],
   "source": [
    "sentences = [x for x in doc.sents]\n",
    "print(sentences[0])"
   ]
  },
  {
   "cell_type": "code",
   "execution_count": 43,
   "metadata": {},
   "outputs": [
    {
     "data": {
      "text/html": [
       "<div class=\"entities\" style=\"line-height: 2.5; direction: ltr\">Calling on Angels While Enduring the Trials of Job in \n",
       "<mark class=\"entity\" style=\"background: #feca74; padding: 0.45em 0.6em; margin: 0 0.25em; line-height: 1; border-radius: 0.35em;\">\n",
       "    California\n",
       "    <span style=\"font-size: 0.8em; font-weight: bold; line-height: 1; border-radius: 0.35em; text-transform: uppercase; vertical-align: middle; margin-left: 0.5rem\">GPE</span>\n",
       "</mark>\n",
       ".</div>"
      ],
      "text/plain": [
       "<IPython.core.display.HTML object>"
      ]
     },
     "metadata": {},
     "output_type": "display_data"
    }
   ],
   "source": [
    "displacy.render(nlp(str(sentences[0])), jupyter=True, style='ent')"
   ]
  },
  {
   "cell_type": "code",
   "execution_count": 18,
   "metadata": {},
   "outputs": [
    {
     "data": {
      "text/plain": [
       "[('second', 'ADJ', 'second'),\n",
       " ('son', 'NOUN', 'son'),\n",
       " ('Jesus', 'PROPN', 'Jesus'),\n",
       " ('epileptic', 'ADJ', 'epileptic'),\n",
       " ('3', 'NUM', '3')]"
      ]
     },
     "execution_count": 18,
     "metadata": {},
     "output_type": "execute_result"
    }
   ],
   "source": [
    "[(x.orth_,x.pos_, x.lemma_) for x in [y \n",
    "                                      for y\n",
    "                                      in nlp(str(sentences[25])) \n",
    "                                      if not y.is_stop and y.pos_ != 'PUNCT']]"
   ]
  },
  {
   "cell_type": "code",
   "execution_count": 20,
   "metadata": {},
   "outputs": [
    {
     "data": {
      "text/plain": [
       "{'second': 'ORDINAL', 'Jesus': 'PERSON', '3': 'CARDINAL'}"
      ]
     },
     "execution_count": 20,
     "metadata": {},
     "output_type": "execute_result"
    }
   ],
   "source": [
    "dict([(str(x), x.label_) for x in nlp(str(sentences[25])).ents])"
   ]
  },
  {
   "cell_type": "code",
   "execution_count": null,
   "metadata": {},
   "outputs": [],
   "source": []
  }
 ],
 "metadata": {
  "kernelspec": {
   "display_name": "Python 3",
   "language": "python",
   "name": "python3"
  },
  "language_info": {
   "codemirror_mode": {
    "name": "ipython",
    "version": 3
   },
   "file_extension": ".py",
   "mimetype": "text/x-python",
   "name": "python",
   "nbconvert_exporter": "python",
   "pygments_lexer": "ipython3",
   "version": "3.7.4"
  }
 },
 "nbformat": 4,
 "nbformat_minor": 4
}
